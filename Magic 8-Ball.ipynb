{
 "cells": [
  {
   "cell_type": "markdown",
   "metadata": {},
   "source": [
    "# ASK THE GREAT AND POWERFUL MAGIC 8-BALL!\n",
    "## BE AMAZED!\n"
   ]
  },
  {
   "cell_type": "code",
   "execution_count": 1,
   "metadata": {},
   "outputs": [
    {
     "name": "stdout",
     "output_type": "stream",
     "text": [
      "Alexander asks: Should I take a shower\n",
      "Magic 8-Ball's answer: Outlook not so good\n"
     ]
    }
   ],
   "source": [
    "import random\n",
    "name = input(\"What is your Name?\")\n",
    "name = str(name)             \n",
    "question = input(\"What is your question? :\")\n",
    "question = str(question)\n",
    "answer = ()\n",
    "\n",
    "random_number = random.randint(1, 26)\n",
    "# print(random_number)\n",
    "if random_number == 1:\n",
    " answer = \"Yes - definitely\"\n",
    "elif random_number == 2:\n",
    " answer = \"It is decidedly so\"\n",
    "elif random_number == 3:\n",
    "  answer = \"Without a doubt\"\n",
    "elif random_number == 4:\n",
    "  answer = \"Reply hazy , try again\"\n",
    "elif random_number == 5:\n",
    "  answer = \"Ask again later\"\n",
    "elif random_number == 6:\n",
    "  answer = \"Better not tell you now\"\n",
    "elif random_number == 7:\n",
    "  answer = \"My sources say no\"\n",
    "elif random_number == 8:\n",
    "  answer = \"Outlook not so good\"\n",
    "elif random_number == 9:\n",
    "  answer = \"Very Doubtful\"\n",
    "elif random_number == 10:\n",
    "  answer = \"Yes\"\n",
    "elif random_number == 11:\n",
    "  answer = \"It is certain\"\n",
    "elif random_number == 12:\n",
    "  answer = \"You may rely on it\"\n",
    "elif random_number == 13:\n",
    "  answer = \"Outlook Good\"\n",
    "elif random_number == 14:\n",
    "  answer = \"As I see it, Yes\"\n",
    "elif random_number == 15:\n",
    "  answer = \"Signs point to yes\"\n",
    "elif random_number == 16:\n",
    "  answer = \"Reply hazy try again\"\n",
    "elif random_number == 17:\n",
    "  answer = \"Cannot predict now\"\n",
    "elif random_number == 18:\n",
    "  answer = \"Concentrate and ask again\"\n",
    "elif random_number == 19:\n",
    "  answer = \"Don't count on it\"\n",
    "elif random_number == 20:\n",
    "  answer = \"Very Doubtful\"\n",
    "elif random_number == 21:\n",
    "  answer = \"My reply is....no\"\n",
    "elif random_number == 22:\n",
    "    answer = \"NO GOD PLEASE NO! NO! NOOOOOOOOOOOOOOOOOO!\"\n",
    "elif random_number == 23:\n",
    "    answer = \"Do I look like I know?\"\n",
    "elif random_number == 24:\n",
    "    answer = \"Make it so.\"\n",
    "elif random_number == 25:\n",
    "    answer = \"Does a bear poop in the woods?\"\n",
    "elif random_number == 26:\n",
    "    answer = \"Will answer...for a price\"\n",
    "else:\n",
    "  answer = \"Error\"\n",
    "\n",
    "if name == \"\":\n",
    "  print(\"Mysterious Person asks:\" + question)\n",
    "else:\n",
    "  print(name, \"asks:\", question)\n",
    "if question == \"\":\n",
    "  print(\"Please don't waste the Powerful and Magnificent 8-Balls Time!!!!\")\n",
    "else:\n",
    "  print(\"Magic 8-Ball's answer: \" + answer)\n"
   ]
  },
  {
   "cell_type": "code",
   "execution_count": null,
   "metadata": {},
   "outputs": [],
   "source": []
  }
 ],
 "metadata": {
  "kernelspec": {
   "display_name": "Python 3.10.7 64-bit",
   "language": "python",
   "name": "python3"
  },
  "language_info": {
   "codemirror_mode": {
    "name": "ipython",
    "version": 3
   },
   "file_extension": ".py",
   "mimetype": "text/x-python",
   "name": "python",
   "nbconvert_exporter": "python",
   "pygments_lexer": "ipython3",
   "version": "3.10.7"
  },
  "orig_nbformat": 4,
  "vscode": {
   "interpreter": {
    "hash": "3f21ebe049afaf08438594e09460e15598695bec2612c35017fc9657a5209567"
   }
  }
 },
 "nbformat": 4,
 "nbformat_minor": 2
}
