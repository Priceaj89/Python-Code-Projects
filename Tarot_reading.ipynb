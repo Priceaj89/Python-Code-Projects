{
 "cells": [
  {
   "cell_type": "code",
   "execution_count": 1,
   "metadata": {},
   "outputs": [],
   "source": [
    "import random"
   ]
  },
  {
   "cell_type": "code",
   "execution_count": 2,
   "metadata": {},
   "outputs": [
    {
     "name": "stdout",
     "output_type": "stream",
     "text": [
      "Leeanna, your cards chosen are:\n",
      "Your past is the Knight of Pentacles Reversed card. \n",
      "Your present is the Judgement card. \n",
      "Your future is the The World Reversed card. \n"
     ]
    }
   ],
   "source": [
    "tarot = {1: \"The Magician\", 2: \"The High Priestess\", 3: \"The Empress\",\n",
    "         4: \"The Emperor\", 5: \"The Hierophant\", 6: \"The Lovers\", 7: \"The Chariot\",\n",
    "         8: \"Strength\", 9: \"The Hermit\", 10: \"Wheel of Fortune\", 11: \"Justice\",\n",
    "         12: \"The Hanged Man\", 13: \"Death\", 14: \"Temperance\", 15: \"The Devil\", 16: \"The Tower\",\n",
    "         17: \"The Star\", 18: \"The Moon\", 19: \"The Sun\", 20: \"Judgement\", 21: \"The World\",\n",
    "         22: \"The Fool\", 23: \"Ace of Wands\", 24: \"2 of Wands\", 25: \"3 of Wands\", 26: \"4 of Wands\",\n",
    "         27: \"5 of Wands\", 28: \"6 of Wands\", 29: \"7 of Wands\", 30: \"8 of Wands\", 31: \"9 of Wands\",\n",
    "         32: \"10 of Wands\", 33: \"Ace of Cups\", 34: \"2 of Cups\", 35: \"3 of Cups\",\n",
    "         36: \"4 of Cups\", 37: \"5 of Cups\", 38: \"6 of Cups\", 39: \"7 of Cups\",\n",
    "         40: \"8 of Cups\", 41: \"9 of Cups\", 42: \"10 of Cups\", 43: \"Ace of Swords\",\n",
    "         44: \"2 of Swords\", 45: \"3 of Swords\", 46: \"4 of Swords\", 47: \"5 of Swords\",\n",
    "         48: \"6 of Swords\", 49: \"7 of Swords\", 50: \"8 of Swords\", 51: \"9 of Swords\",\n",
    "         52: \"10 of Swords\", 53: \"Ace of Pentacles\", 54: \"2 of Pentacles\", 55: \"3 of Pentacles\",\n",
    "         56: \"4 of Pentacles\", 57: \"5 of Pentacles\", 58: \"6 of Pentacles\", 59: \"7 of Pentacles\",\n",
    "         60: \"8 of Pentacles\", 61: \"9 of Pentacles\", 62: \"10 of Pentacles\", 63: \"The Magician Reversed\", 64: \"The High Priestess Reversed\", 65: \"The Empress Reversed\",\n",
    "         66: \"The Emperor Reversed\", 67: \"The Hierophant Reversed\", 68: \"The Lovers Reversed\", 69: \"The Chariot Reversed\",\n",
    "         70: \"Strength Reversed\", 71: \"The Hermit Reversed\", 72: \"Wheel of Fortune Reversed\", 73: \"Justice Reversed\",\n",
    "         74: \"The Hanged Man Reversed\", 75: \"Death Reversed\", 76: \"Temperance Reversed\", 77: \"The Devil Reversed\", 78: \"The Tower Reversed\",\n",
    "         79: \"The Star Reversed\", 80: \"The Moon Reversed\", 81: \"The Sun Reversed\", 82: \"Judgement Reversed\", 83: \"The World Reversed\",\n",
    "         84: \"The Fool Reversed\", 85: \"Ace of Wands Reversed\", 86: \"2 of Wands Reversed\", 87: \"3 of Wands Reversed\", 88: \"4 of Wands Reversed\",\n",
    "         89: \"5 of Wands Reversed\", 90: \"6 of Wands Reversed\", 91: \"7 of Wands Reversed\", 92: \"8 of Wands Reversed\", 93: \"9 of Wands Reversed\",\n",
    "         94: \"10 of Wands Reversed\", 95: \"Ace of Cups Reversed\", 96: \"2 of Cups Reversed\", 97: \"3 of Cups Reversed\",\n",
    "         98: \"4 of Cups Reversed\", 99: \"5 of Cups Reversed\", 100: \"6 of Cups Reversed\", 101: \"7 of Cups Reversed\",\n",
    "         102: \"8 of Cups Reversed\", 103: \"9 of Cups Reversed\", 104: \"10 of Cups Reversed\", 105: \"Ace of Swords Reversed\",\n",
    "         106: \"2 of Swords Reversed\", 108: \"3 of Swords Reversed\", 109: \"4 of Swords Reversed\", 110: \"5 of Swords Reversed\",\n",
    "         110: \"6 of Swords Reversed\", 111: \"7 of Swords Reversed\", 112: \"8 of Swords Reversed\", 113: \"9 of Swords Reversed\",\n",
    "         114: \"10 of Swords Reversed\", 115: \"Ace of Pentacles Reversed\", 116: \"2 of Pentacles Reversed\", 11: \"3 of Pentacles Reversed\",\n",
    "         118: \"4 of Pentacles Reversed\", 119: \"5 of Pentacles Reversed\", 120: \"6 of Pentacles Reversed\", 121: \"7 of Pentacles Reversed\",\n",
    "         122: \"8 of Pentacles Reversed\", 123: \"9 of Pentacles Reversed\", 124: \"10 of Pentacles Reversed\", 125: \"Page of Swords\", 126: \"Knight of Swords\",\n",
    "         127: \"Queen of Swords\", 128: \"King of Swords\", 129: \"Page of Swords Reversed\", 130: \"Knight of Swords Reversed\", 131: \"Queen of Swords Reversed\",\n",
    "         132: \"King of Swords Reversed\", 133: \"Page of Wands\", 134: \"Knight of Wands\", 135: \"Queen of Wands\", 136: \"King of Wands\",\n",
    "         137: \"Page of Wands Reversed\", 138: \"Knight of Wands Reversed\", 139: \"Queen of Wands Reversed\", 140: \"King of Wands Reversed\",\n",
    "         141: \"Page of Cups\", 142: \"Knight of Cups\", 143: \"Queen of Cups\", 144: \"King of Cups\", 145: \"Page of Cups Reversed\", 146: \"Knight of Cups Reversed\",\n",
    "         147: \"Queen of Cups Reversed\", 148: \"King of Cups Reversed\", 149: \"Page of Pentacles\", 150: \"Knight of Pentacles\", 151: \"Queen of Pentacles\",\n",
    "         152: \"King of Pentacles\", 153: \"Page of Pentacles Reversed\", 154: \"Knight of Pentacles Reversed\", 155: \"Queen of Pentacles Reversed\",\n",
    "         156: \"King of Pentacles Reversed\"}\n",
    "\n",
    "cards = list(tarot.values())  \n",
    "random.shuffle(cards)\n",
    "\n",
    "past = cards.pop()\n",
    "present = cards.pop()\n",
    "future = cards.pop()\n",
    "x = input(\"Enter Your Name:\")\n",
    "print(x+\", your cards chosen are:\")\n",
    "print(\"Your past is the \"+past+\" card. \")\n",
    "print(\"Your present is the \"+present+\" card. \")\n",
    "print(\"Your future is the \"+future+\" card. \")\n",
    "\n",
    "\n",
    "\n",
    "        \n",
    "    "
   ]
  }
 ],
 "metadata": {
  "kernelspec": {
   "display_name": "Python 3.9.12 ('base')",
   "language": "python",
   "name": "python3"
  },
  "language_info": {
   "codemirror_mode": {
    "name": "ipython",
    "version": 3
   },
   "file_extension": ".py",
   "mimetype": "text/x-python",
   "name": "python",
   "nbconvert_exporter": "python",
   "pygments_lexer": "ipython3",
   "version": "3.9.12"
  },
  "orig_nbformat": 4,
  "vscode": {
   "interpreter": {
    "hash": "ad2bdc8ecc057115af97d19610ffacc2b4e99fae6737bb82f5d7fb13d2f2c186"
   }
  }
 },
 "nbformat": 4,
 "nbformat_minor": 2
}
